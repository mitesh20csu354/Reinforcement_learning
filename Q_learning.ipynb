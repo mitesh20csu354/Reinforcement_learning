{
  "nbformat": 4,
  "nbformat_minor": 0,
  "metadata": {
    "colab": {
      "provenance": [],
      "authorship_tag": "ABX9TyPwqFUe2Qg7Ptytbri5zpdN",
      "include_colab_link": true
    },
    "kernelspec": {
      "name": "python3",
      "display_name": "Python 3"
    },
    "language_info": {
      "name": "python"
    }
  },
  "cells": [
    {
      "cell_type": "markdown",
      "metadata": {
        "id": "view-in-github",
        "colab_type": "text"
      },
      "source": [
        "<a href=\"https://colab.research.google.com/github/mitesh20csu354/Reinforcement_learning/blob/main/Q_learning.ipynb\" target=\"_parent\"><img src=\"https://colab.research.google.com/assets/colab-badge.svg\" alt=\"Open In Colab\"/></a>"
      ]
    },
    {
      "cell_type": "code",
      "execution_count": 2,
      "metadata": {
        "id": "q7bbdejO2zcM"
      },
      "outputs": [],
      "source": [
        "import numpy as np\n",
        "#R MATRIX\n",
        "R=np.matrix([[-1,-1,-1,-1,0,-1],\n",
        "             [-1,-1,-1,0,-1,100],\n",
        "             [-1,-1,-1,0,-1,-1],\n",
        "             [-1,0,0,-1,0,-1],\n",
        "             [-1,0,0,-1,-1,100],\n",
        "             [-1,0,-1,-1,0,100]])"
      ]
    },
    {
      "cell_type": "code",
      "source": [
        "R"
      ],
      "metadata": {
        "colab": {
          "base_uri": "https://localhost:8080/"
        },
        "id": "zXUo7ztK3-fD",
        "outputId": "f0a65c76-7815-4d42-bf35-972fd8930234"
      },
      "execution_count": 3,
      "outputs": [
        {
          "output_type": "execute_result",
          "data": {
            "text/plain": [
              "matrix([[ -1,  -1,  -1,  -1,   0,  -1],\n",
              "        [ -1,  -1,  -1,   0,  -1, 100],\n",
              "        [ -1,  -1,  -1,   0,  -1,  -1],\n",
              "        [ -1,   0,   0,  -1,   0,  -1],\n",
              "        [ -1,   0,   0,  -1,  -1, 100],\n",
              "        [ -1,   0,  -1,  -1,   0, 100]])"
            ]
          },
          "metadata": {},
          "execution_count": 3
        }
      ]
    },
    {
      "cell_type": "code",
      "source": [
        "#q matrix\n",
        "Q=np.matrix(np.zeros([6,6]))\n",
        "Q"
      ],
      "metadata": {
        "colab": {
          "base_uri": "https://localhost:8080/"
        },
        "id": "cEowkbE74Gdx",
        "outputId": "ce0ef82f-8e97-4db1-c015-5571ec093abd"
      },
      "execution_count": 4,
      "outputs": [
        {
          "output_type": "execute_result",
          "data": {
            "text/plain": [
              "matrix([[0., 0., 0., 0., 0., 0.],\n",
              "        [0., 0., 0., 0., 0., 0.],\n",
              "        [0., 0., 0., 0., 0., 0.],\n",
              "        [0., 0., 0., 0., 0., 0.],\n",
              "        [0., 0., 0., 0., 0., 0.],\n",
              "        [0., 0., 0., 0., 0., 0.]])"
            ]
          },
          "metadata": {},
          "execution_count": 4
        }
      ]
    },
    {
      "cell_type": "code",
      "source": [
        "gamma=0.8"
      ],
      "metadata": {
        "id": "fbtI4E5J4d1E"
      },
      "execution_count": 5,
      "outputs": []
    },
    {
      "cell_type": "code",
      "source": [
        "initial_state=1"
      ],
      "metadata": {
        "id": "1pA7GIvG4lPk"
      },
      "execution_count": 6,
      "outputs": []
    },
    {
      "cell_type": "code",
      "source": [
        "def available_actions(state):\n",
        "  current_state_row=R[state,]\n",
        "  av_act=np.where(current_state_row>=0)[1]\n",
        "  return av_act\n"
      ],
      "metadata": {
        "id": "FAKpEdO24o6Q"
      },
      "execution_count": 7,
      "outputs": []
    },
    {
      "cell_type": "code",
      "source": [
        "available_act=available_actions(initial_state)"
      ],
      "metadata": {
        "id": "fkJPwMwi5NBl"
      },
      "execution_count": 8,
      "outputs": []
    },
    {
      "cell_type": "code",
      "source": [
        "available_act"
      ],
      "metadata": {
        "colab": {
          "base_uri": "https://localhost:8080/"
        },
        "id": "SBuE0DH45XkX",
        "outputId": "673ee947-d038-43fc-e54e-857ee128c3fc"
      },
      "execution_count": 9,
      "outputs": [
        {
          "output_type": "execute_result",
          "data": {
            "text/plain": [
              "array([3, 5])"
            ]
          },
          "metadata": {},
          "execution_count": 9
        }
      ]
    },
    {
      "cell_type": "code",
      "source": [
        "def sample_next_action(available_actions_range):\n",
        "  next_action=int(np.random.choice(available_act,1))\n",
        "  return next_action"
      ],
      "metadata": {
        "id": "6A_p5k7h5bFM"
      },
      "execution_count": 10,
      "outputs": []
    },
    {
      "cell_type": "code",
      "source": [
        "action=sample_next_action(available_act)"
      ],
      "metadata": {
        "id": "Db7cMMDH7NSR"
      },
      "execution_count": 11,
      "outputs": []
    },
    {
      "cell_type": "code",
      "source": [
        "action"
      ],
      "metadata": {
        "colab": {
          "base_uri": "https://localhost:8080/"
        },
        "id": "Q-yJTYkh7T7V",
        "outputId": "a444666a-d65c-4d96-8303-e304910894ea"
      },
      "execution_count": 12,
      "outputs": [
        {
          "output_type": "execute_result",
          "data": {
            "text/plain": [
              "5"
            ]
          },
          "metadata": {},
          "execution_count": 12
        }
      ]
    },
    {
      "cell_type": "code",
      "source": [
        "def update(current_state,action,gamma):\n",
        "  max_index=np.where(Q[action,]==np.max(Q[action,]))[1]\n",
        "\n",
        "  if max_index.shape[0]>1:\n",
        "    max_index=int(np.random.choice(max_index,size=1))\n",
        "  else:\n",
        "    max_index=int(max_index)\n",
        "  max_value=Q[action,max_index]\n",
        "\n",
        "  Q[current_state,action]=R[current_state,action]+gamma*max_value\n",
        "\n",
        "update(initial_state,action,gamma)"
      ],
      "metadata": {
        "id": "pDtKnI4Q7VUq"
      },
      "execution_count": 13,
      "outputs": []
    },
    {
      "cell_type": "code",
      "source": [
        "Q"
      ],
      "metadata": {
        "colab": {
          "base_uri": "https://localhost:8080/"
        },
        "id": "MuddAkIQAlc_",
        "outputId": "b3877d40-150e-4c9c-827e-aa4a4148d898"
      },
      "execution_count": 14,
      "outputs": [
        {
          "output_type": "execute_result",
          "data": {
            "text/plain": [
              "matrix([[  0.,   0.,   0.,   0.,   0.,   0.],\n",
              "        [  0.,   0.,   0.,   0.,   0., 100.],\n",
              "        [  0.,   0.,   0.,   0.,   0.,   0.],\n",
              "        [  0.,   0.,   0.,   0.,   0.,   0.],\n",
              "        [  0.,   0.,   0.,   0.,   0.,   0.],\n",
              "        [  0.,   0.,   0.,   0.,   0.,   0.]])"
            ]
          },
          "metadata": {},
          "execution_count": 14
        }
      ]
    },
    {
      "cell_type": "code",
      "source": [
        "update(initial_state,action,gamma)"
      ],
      "metadata": {
        "id": "xV4D5tBv9TFB"
      },
      "execution_count": 15,
      "outputs": []
    },
    {
      "cell_type": "code",
      "source": [
        "for i in range(10000):\n",
        "  current_state=np.random.randint(0,int(Q.shape[0]))\n",
        "  available_act=available_actions(current_state)\n",
        "  action=sample_next_action(available_act)\n",
        "  update(current_state,action,gamma)\n",
        "\n",
        "\n",
        "\n",
        "print(\"Trained Q matrix:\")\n",
        "print(Q/np.max(Q)*100)"
      ],
      "metadata": {
        "colab": {
          "base_uri": "https://localhost:8080/"
        },
        "id": "6bHLPdqD9igo",
        "outputId": "95221bd8-87f2-44b2-be5c-9f27f16170cd"
      },
      "execution_count": 18,
      "outputs": [
        {
          "output_type": "stream",
          "name": "stdout",
          "text": [
            "Trained Q matrix:\n",
            "[[  0.    0.    0.    0.   80.    0. ]\n",
            " [  0.    0.    0.   64.    0.  100. ]\n",
            " [  0.    0.    0.   64.    0.    0. ]\n",
            " [  0.   80.   51.2   0.   80.    0. ]\n",
            " [  0.   80.   51.2   0.    0.  100. ]\n",
            " [  0.   80.    0.    0.   80.  100. ]]\n"
          ]
        }
      ]
    },
    {
      "cell_type": "code",
      "source": [
        "current_state = 1\n",
        "steps = [current_state]\n",
        "\n",
        "while current_state != 5:\n",
        "  next_step_index = np.where(Q[current_state,]==np.max(Q[current_state,]))[1]\n",
        "  if next_step_index.shape[0]>1:\n",
        "    next_step_index = int(np.random.choice(next_step_index, size=1))\n",
        "  else:\n",
        "    next_step_index = int(next_step_index)\n",
        "\n",
        "  steps.append(next_step_index)\n",
        "  current_state = next_step_index\n",
        "\n",
        "  #print selected step sequence\n",
        "print(\"Selected path: \")\n",
        "print(steps)"
      ],
      "metadata": {
        "id": "AUT3vfMJ_Cw_",
        "colab": {
          "base_uri": "https://localhost:8080/"
        },
        "outputId": "bf1872a2-3884-4f72-dcf7-92c950219a4b"
      },
      "execution_count": 17,
      "outputs": [
        {
          "output_type": "stream",
          "name": "stdout",
          "text": [
            "Selected path: \n",
            "[1, 5]\n"
          ]
        }
      ]
    },
    {
      "cell_type": "code",
      "source": [],
      "metadata": {
        "id": "eSu57b_z32eb"
      },
      "execution_count": 17,
      "outputs": []
    }
  ]
}